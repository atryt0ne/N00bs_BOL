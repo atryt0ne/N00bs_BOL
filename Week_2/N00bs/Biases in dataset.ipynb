{
 "cells": [
  {
   "cell_type": "markdown",
   "id": "ead09e27",
   "metadata": {},
   "source": [
    "## WHAT IS DATA BIAS?\n",
    "\n",
    "The common definition of data bias is that the available data is not representative of the population or phenomenon of a study.\n",
    "  -  Data does not include variables that properly capture the phenomenon we want to predict\n",
    "  -  Data includes content produced by humans which may contain bias against groups of people\n",
    "  \n",
    "## TYPES OF DATA BIAS\n",
    "Data bias occurs due to structural characteristics of the systems that produce the data. Following are a feew types of data biases that we came across from the given references(there might be more then 5 types):\n",
    "  - Response or Activity Bias\n",
    "  - Selection bias due to feedback loops\n",
    "  - Bias due to system drift\n",
    "  - Omitted variable Bias\n",
    "  - Societal bias\n",
    "  \n",
    "  \n",
    "## HOW TO IDENTIFY AND CORRECT BIAS\n",
    "\n",
    "The first key step to identify bias is to understand how the data was generated. Once the data generation process has been mapped the types of bias can be anticipated and one can design interventions to either pre-process data or obtain additional data. Another key step is to perform comprehensive Exploratory Data Analysis (EDA).\n",
    "Few of the techniques to correct are:\n",
    "  - those that use data pre-processing before training\n",
    "  - in-processing during training\n",
    "  - post-processing after training\n",
    "  \n",
    "### REFERENCE\n",
    "   https://towardsdatascience.com/survey-d4f168791e57\n",
    "   https://www.metabase.com/blog/6-most-common-type-of-data-bias-in-data-analysis\n",
    "   https://www.telusinternational.com/articles/7-types-of-data-bias-in-machine-learning"
   ]
  }
 ],
 "metadata": {
  "kernelspec": {
   "display_name": "Python 3 (ipykernel)",
   "language": "python",
   "name": "python3"
  },
  "language_info": {
   "codemirror_mode": {
    "name": "ipython",
    "version": 3
   },
   "file_extension": ".py",
   "mimetype": "text/x-python",
   "name": "python",
   "nbconvert_exporter": "python",
   "pygments_lexer": "ipython3",
   "version": "3.9.12"
  }
 },
 "nbformat": 4,
 "nbformat_minor": 5
}
