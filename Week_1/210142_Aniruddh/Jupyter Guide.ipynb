{
 "cells": [
  {
   "cell_type": "markdown",
   "id": "dd7528c2",
   "metadata": {},
   "source": [
    "# Jupyter Notebooks Basic Guide\n",
    "\n",
    "- Jupyter is a web based computing platform. It offers a notebook layout where one can organise code into code cells on a notebook. \n",
    "- Notebooks are stored in an .ipynb format and can contain code and markdown text.\n",
    "- The basic unit of a notebook is a code cell, like this one.\n",
    "- By default code cells are in code form, they can be interchanged by going into command mode (by pressing escape) and then pressing m (for markdown) and y (for code)"
   ]
  },
  {
   "cell_type": "markdown",
   "id": "72b651b4",
   "metadata": {},
   "source": [
    "## Code Cells\n",
    "- They are used for typing and running code and have tab-completion and syntax highlighting\n",
    "- The output of code that is run need not be text, graphs and plots, html tables and more can be displayed directly in the output"
   ]
  },
  {
   "cell_type": "markdown",
   "id": "2d3e6fcc",
   "metadata": {},
   "source": [
    "## Kernels\n",
    "- Code runs in a kernel, each notebook is associated with one\n",
    "- By default the kernel starts running once you open a notebook\n",
    "- You can manually control the kernel and force it to stop, restart or shutdown in the kernel tab of the toolbar"
   ]
  },
  {
   "cell_type": "code",
   "execution_count": 5,
   "id": "bac721ca",
   "metadata": {},
   "outputs": [
    {
     "name": "stdout",
     "output_type": "stream",
     "text": [
      "My name is Aniruddh and I'm 18 years old\n"
     ]
    }
   ],
   "source": [
    "# Demonstration of Code Cell\n",
    "age = 18\n",
    "name = 'Aniruddh'\n",
    "print(f\"My name is {name} and I'm {age} years old\")\n",
    "# Run code using Shift+Enter (inserts a new cell afterwards) or Ctrl + Enter, alternatively use the run button in the toolbar"
   ]
  },
  {
   "cell_type": "markdown",
   "id": "4cfbcba3",
   "metadata": {},
   "source": [
    "## Markdown Cells\n",
    "- These are used for documentation, think of them like a more readable docstring format\n",
    "- It's good practice to explain what your code does in markdown cells between code cells\n",
    "- You can learn more about markdown format in the official [guide](https://www.markdownguide.org/) but some simple usage is given here\n",
    "- Use #'s for headings - \n",
    " \n",
    "# Level 1 Heading\n",
    "## Level 2 Heading\n",
    "### Level 3 Heading\n",
    "\n",
    "- Use '-' for creating unordered lists\n",
    "- Use '1.' for creating ordered lists\n",
    "- Enclose strings in '\\*' to *italicise* them and in '\\*\\*' to **bold them**\n",
    "- Use > for a blockquote\n",
    "\n",
    "> This is shown separately\n",
    "\n",
    "- Use \\` (backtick) for writing code:  \n",
    "`print(\"Hello World\")`"
   ]
  },
  {
   "cell_type": "markdown",
   "id": "92cf01cc",
   "metadata": {},
   "source": [
    "## Output\n",
    "- Note that output is displayed asynchronously, that is the output of a code cell is displayed when it is executed and the order of the cell on the notebook does not matter, but the order in which you execute them does\n",
    "- So if you don't run a cell with import commands, the next cell where you use the libraries will throw an error if you try to run it directly"
   ]
  },
  {
   "cell_type": "markdown",
   "id": "cf9dce69",
   "metadata": {},
   "source": [
    "## Shortcuts\n",
    "- Like any good code editor, Jupyter too has a ton of shortcuts, in case you ever need them use the Command Panel (Ctrl + Shift + P) to look up a shortcut "
   ]
  }
 ],
 "metadata": {
  "kernelspec": {
   "display_name": "Python [conda env:deeplearn]",
   "language": "python",
   "name": "conda-env-deeplearn-py"
  },
  "language_info": {
   "codemirror_mode": {
    "name": "ipython",
    "version": 3
   },
   "file_extension": ".py",
   "mimetype": "text/x-python",
   "name": "python",
   "nbconvert_exporter": "python",
   "pygments_lexer": "ipython3",
   "version": "3.9.12"
  }
 },
 "nbformat": 4,
 "nbformat_minor": 5
}
