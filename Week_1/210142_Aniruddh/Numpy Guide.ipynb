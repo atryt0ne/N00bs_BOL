{
 "cells": [
  {
   "cell_type": "code",
   "execution_count": 3,
   "id": "170f369b",
   "metadata": {},
   "outputs": [],
   "source": [
    "import numpy as np"
   ]
  },
  {
   "cell_type": "markdown",
   "id": "45d2c426",
   "metadata": {},
   "source": [
    "# Numpy"
   ]
  },
  {
   "cell_type": "markdown",
   "id": "56dded6e",
   "metadata": {},
   "source": [
    "## Numpy Arrays"
   ]
  },
  {
   "cell_type": "markdown",
   "id": "88e7bbb3",
   "metadata": {},
   "source": [
    "- Numpy arrays contain homogenous elements and are much faster and more compact than python lists\n",
    "- All elements of a np array are of the same type referred as the array dtype, which is np.float64 by default\n",
    "- They can be initialised using python lists -"
   ]
  },
  {
   "cell_type": "code",
   "execution_count": 4,
   "id": "034bdbfb",
   "metadata": {},
   "outputs": [
    {
     "name": "stdout",
     "output_type": "stream",
     "text": [
      "2\n"
     ]
    }
   ],
   "source": [
    "# Initialising a 1D array\n",
    "arr1 = np.array([1,2,3,4,5])\n",
    "# Initialising a 2D array\n",
    "arr2 = np.array([[1,2,3],[4,5,6]])\n",
    "# Accessing an element\n",
    "print(arr2[0][1])"
   ]
  },
  {
   "cell_type": "markdown",
   "id": "c2fbdb3d",
   "metadata": {},
   "source": [
    "- An ndarray refers to an n dimensional array - basically any array\n",
    "- ndarray is also a class in numpy which can be used to represent matrices and vectors\n",
    "- Dimensions in numpy are often also called axes\n",
    "- Like in python, one can access elements of an array by indexing and slicing, however, a new feature of np arrays is how they can share data across arrays, so that changes made in one are reflected in another\n",
    "\n",
    "## More on Initialisation\n",
    "\n",
    "- We already saw how np.array() can create an array from a python list. Here are some other ways - "
   ]
  },
  {
   "cell_type": "code",
   "execution_count": 10,
   "id": "2851b873",
   "metadata": {},
   "outputs": [
    {
     "name": "stdout",
     "output_type": "stream",
     "text": [
      "[0. 0.]\n",
      "[1. 1.]\n",
      "[1. 1.]\n",
      "[ 1  3  5  7  9 11 13 15 17 19]\n",
      "[  0.  25.  50.  75. 100.]\n",
      "[0 0]\n"
     ]
    }
   ],
   "source": [
    "# Create an array of zeroes\n",
    "print(np.zeros(2))\n",
    "# Create an array of ones\n",
    "print(np.ones(2))\n",
    "# Create an empty array, the elements are based on the current memory state\n",
    "print(np.empty(2))\n",
    "# Create an array over a range of elements with start stop and step\n",
    "print(np.arange(1,20,2))\n",
    "# Create an array of specified size over a range with evenly spaced elements\n",
    "print(np.linspace(0,100,5))\n",
    "# Initialising an array with integer elements instead of float\n",
    "print(np.zeros(2,dtype=np.int64))"
   ]
  },
  {
   "cell_type": "markdown",
   "id": "a470b798",
   "metadata": {},
   "source": [
    "## Indexing\n",
    "\n",
    "- Numpy offers multiple ways to index an array\n",
    "1. **Slicing** - Numpy arrays can be sliced just like python arrays - \n",
    "    - For multi-dimensional arrays specify the slice for each dimension\n",
    "    - You can also mix slicing and integer indexing, which results in a corresponding decrease in rank of matrix"
   ]
  },
  {
   "cell_type": "code",
   "execution_count": 13,
   "id": "c7569219",
   "metadata": {},
   "outputs": [
    {
     "name": "stdout",
     "output_type": "stream",
     "text": [
      "[[ 1  2  3  4]\n",
      " [ 5  6  7  8]\n",
      " [ 9 10 11 12]]\n",
      "[[ 1  2  3  4]\n",
      " [ 5  0  7  8]\n",
      " [ 9 10 11 12]]\n"
     ]
    }
   ],
   "source": [
    "# Create an array - \n",
    "# [[1 2 3 4]\n",
    "#  [5 6 7 8]\n",
    "#  [9 10 11 12]]\n",
    "arr = np.array([[1,2,3,4],[5,6,7,8],[9,10,11,12]])\n",
    "\n",
    "# Create a subarray with last two rows and columns 1 and 2\n",
    "arr_var = arr[1:,1:3]\n",
    "\n",
    "# Note that slices are views and so changes to them change the actual array as well\n",
    "# Initial state\n",
    "print(arr)\n",
    "\n",
    "# Making a change\n",
    "arr_var[0][0] = 0\n",
    "\n",
    "# Change reflected in main array\n",
    "print(arr)"
   ]
  },
  {
   "cell_type": "markdown",
   "id": "9eb452ca",
   "metadata": {},
   "source": [
    "2. **Integer** - Effectively this is used to create new arrays using data from pre-existing arrays\n",
    "    - It works a little differently compared to python, to select multiple elements, we can specify their indexes parallely\n",
    "    - A nice thing you can do with numpy arrays because of this is that you can mutate certain elements over a range without a loop"
   ]
  },
  {
   "cell_type": "code",
   "execution_count": 23,
   "id": "021a94f0",
   "metadata": {},
   "outputs": [
    {
     "name": "stdout",
     "output_type": "stream",
     "text": [
      "array is-\n",
      "[[ 1  2  3  4]\n",
      " [ 5  6  7  8]\n",
      " [ 9 10 11 12]]\n",
      "The elements we want are [ 2  7 12]\n",
      "\n",
      "new array-\n",
      "[[0 0 0 0]\n",
      " [0 0 0 0]\n",
      " [0 0 0 0]]\n",
      "mutated-\n",
      "[[0 1 1 0]\n",
      " [1 0 0 0]\n",
      " [0 0 0 1]]\n"
     ]
    }
   ],
   "source": [
    "# Using the previous array and selecting elements at (0,1), (1,2), (2,3)\n",
    "arr = np.array([[1,2,3,4],[5,6,7,8],[9,10,11,12]])\n",
    "print('array is-')\n",
    "print(arr)\n",
    "print('The elements we want are',arr[[0,1,2],[1,2,3]])\n",
    "\n",
    "# Create a 3 by 4 array of ones\n",
    "arr = np.zeros([3,4],np.int64)\n",
    "print('\\nnew array-')\n",
    "print(arr)\n",
    "\n",
    "# Let's increase an element from each column by one\n",
    "rows = np.array([1,0,0,2])\n",
    "arr[rows,np.arange(4)] += 1\n",
    "print('mutated-')\n",
    "print(arr)"
   ]
  },
  {
   "cell_type": "markdown",
   "id": "dcc09ac3",
   "metadata": {},
   "source": [
    "3. **Boolean** - Used to pick elements that satisfy some condition"
   ]
  },
  {
   "cell_type": "code",
   "execution_count": 24,
   "id": "782f3a07",
   "metadata": {},
   "outputs": [
    {
     "name": "stdout",
     "output_type": "stream",
     "text": [
      "[[False False False  True]\n",
      " [ True  True  True  True]\n",
      " [ True  True  True  True]]\n",
      "[ 4  5  6  7  8  9 10 11 12]\n"
     ]
    }
   ],
   "source": [
    "arr = np.array([[1,2,3,4],[5,6,7,8],[9,10,11,12]])\n",
    "\n",
    "bool_idx = (arr>3)\n",
    "# What this does is return an array whose value at an index tells us if the corresponding element is greater than 3\n",
    "\n",
    "print(bool_idx)\n",
    "\n",
    "# Now we can go one more step ahead, and print out a rank 1 array with just those elements which satisfy this condition\n",
    "print(arr[bool_idx])"
   ]
  },
  {
   "cell_type": "markdown",
   "id": "80c1f1ad",
   "metadata": {},
   "source": [
    "## Math on an Array"
   ]
  },
  {
   "cell_type": "code",
   "execution_count": 26,
   "id": "13fe6590",
   "metadata": {},
   "outputs": [
    {
     "name": "stdout",
     "output_type": "stream",
     "text": [
      "[5 5 5 5]\n",
      "[5 5 5 5]\n",
      "[-3 -1  1  3]\n",
      "[-3 -1  1  3]\n",
      "[4 6 6 4]\n",
      "[4 6 6 4]\n",
      "[0.25       0.66666667 1.5        4.        ]\n",
      "[0.25       0.66666667 1.5        4.        ]\n",
      "[1.         1.41421356 1.73205081 2.        ]\n"
     ]
    }
   ],
   "source": [
    "# Quick demonstration of basic algebra - which works elementwise on any array\n",
    "a = np.array([1,2,3,4])\n",
    "b = np.array([4,3,2,1])\n",
    "\n",
    "# Addition\n",
    "print(a+b)\n",
    "print(np.add(a,b))\n",
    "\n",
    "# Subtraction\n",
    "print(a-b)\n",
    "print(np.subtract(a,b))\n",
    "\n",
    "# Multiplication\n",
    "print(a*b)\n",
    "print(np.multiply(a,b))\n",
    "\n",
    "# Division\n",
    "print(a/b)\n",
    "print(np.divide(a,b))\n",
    "\n",
    "# Square Root\n",
    "print(np.sqrt(a))"
   ]
  },
  {
   "cell_type": "markdown",
   "id": "44a96130",
   "metadata": {},
   "source": [
    "- Note that * is for elementwise multiplication, use the dot() method or function to find inner products and perform matrix multiplication"
   ]
  },
  {
   "cell_type": "code",
   "execution_count": 28,
   "id": "3cb2a517",
   "metadata": {},
   "outputs": [
    {
     "name": "stdout",
     "output_type": "stream",
     "text": [
      "219\n",
      "219\n",
      "[29 67]\n",
      "[29 67]\n",
      "[[19 22]\n",
      " [43 50]]\n",
      "[[19 22]\n",
      " [43 50]]\n"
     ]
    }
   ],
   "source": [
    "a = np.array([[1,2],[3,4]])\n",
    "b = np.array([[5,6],[7,8]])\n",
    "c = np.array([9,10])\n",
    "d = np.array([11,12])\n",
    "\n",
    "# Dot product\n",
    "print(c.dot(d))\n",
    "print(np.dot(c,d))\n",
    "\n",
    "# Matrix times a vector\n",
    "print(a.dot(c))\n",
    "print(np.dot(a,c))\n",
    "\n",
    "# Matrix multiplication\n",
    "print(a.dot(b))\n",
    "print(np.dot(a,b))"
   ]
  },
  {
   "cell_type": "markdown",
   "id": "a7c58bf2",
   "metadata": {},
   "source": [
    "### Sum function\n",
    "- The sum function is another useful function you may need to use\n",
    "- It can sum over a specific axis and also filter out elements"
   ]
  },
  {
   "cell_type": "code",
   "execution_count": 29,
   "id": "0185a9e4",
   "metadata": {},
   "outputs": [
    {
     "name": "stdout",
     "output_type": "stream",
     "text": [
      "10\n",
      "[4 6]\n",
      "[3 7]\n"
     ]
    }
   ],
   "source": [
    "# Demonstration of the sum() function\n",
    "a = np.array([[1,2],[3,4]])\n",
    "\n",
    "# Sum all elements\n",
    "print(np.sum(a))\n",
    "\n",
    "# Sum each column\n",
    "print(np.sum(a,axis=0))\n",
    "\n",
    "# Sum each row\n",
    "print(np.sum(a,axis=1))"
   ]
  },
  {
   "cell_type": "markdown",
   "id": "0cfd7fde",
   "metadata": {},
   "source": [
    "### Transposing and Reshaping\n",
    "- Transposing is such a common operation for a matrix, the T attribute is directly set to return the transpose of a matrix\n",
    "- Reshaping an array is also common, and numpy has the reshape() function for the same"
   ]
  },
  {
   "cell_type": "code",
   "execution_count": 34,
   "id": "c8bcad55",
   "metadata": {},
   "outputs": [
    {
     "name": "stdout",
     "output_type": "stream",
     "text": [
      "[[1 2]\n",
      " [3 4]]\n",
      "\n",
      "Transpose-\n",
      "[[1 3]\n",
      " [2 4]]\n",
      "\n",
      "Reshaped-\n",
      "[[1]\n",
      " [2]\n",
      " [3]\n",
      " [4]]\n"
     ]
    }
   ],
   "source": [
    "a = np.array([[1,2],[3,4]])\n",
    "print(a)\n",
    "print('\\nTranspose-')\n",
    "print(a.T)\n",
    "print('\\nReshaped-')\n",
    "print(np.reshape(a,newshape=(4,1)))"
   ]
  },
  {
   "cell_type": "markdown",
   "id": "f5b4c44d",
   "metadata": {},
   "source": [
    "## Working with Arrays of Different Shapes\n",
    "- What if you'd like to multiply a large array with an incompatible small array by using the small array to perform the operation multiple times\n",
    "- The first instinct would be to use a loop to create the required area from the small array, but the time complexity of such an operation would be huge\n",
    "- Numpy has two methods to deal with this, one is with the tile() function and the other is with broadcasting"
   ]
  },
  {
   "cell_type": "code",
   "execution_count": 35,
   "id": "e4020a51",
   "metadata": {},
   "outputs": [
    {
     "name": "stdout",
     "output_type": "stream",
     "text": [
      "[[1 0 1]\n",
      " [1 0 1]\n",
      " [1 0 1]\n",
      " [1 0 1]]\n",
      "[[ 2  2  4]\n",
      " [ 5  5  7]\n",
      " [ 8  8 10]\n",
      " [11 11 13]]\n",
      "[[ 2  2  4]\n",
      " [ 5  5  7]\n",
      " [ 8  8 10]\n",
      " [11 11 13]]\n"
     ]
    }
   ],
   "source": [
    "a = np.array([[1,2,3], [4,5,6], [7,8,9], [10, 11, 12]])\n",
    "b = np.array([1, 0, 1])\n",
    "\n",
    "# The Goal: Add b to each row of a and store in an array res\n",
    "\n",
    "# 1) Tile function\n",
    "bb = np.tile(b,(4,1))             # Stacks 4 copies of b on itself\n",
    "print(bb)\n",
    "\n",
    "# Now just use this matrix\n",
    "res = a + bb\n",
    "print(res)\n",
    "\n",
    "# 2) Broadcasting\n",
    "res = a + b                       # Yep, you can just do that\n",
    "print(res)"
   ]
  },
  {
   "cell_type": "markdown",
   "id": "12371ed4",
   "metadata": {},
   "source": [
    "- The tile() function clearly does not help with the space complexity as it makes copies of the array\n",
    "- Broadcasting however can avoid the space complexity as well. a + b can be computed directly despite the different shapes and it works as if v was actually np.tile(v,(4,1))\n",
    "\n",
    "### Rules of Broadcasting\n",
    "\n",
    "1. If the rank of the array is not the same, then prepend the small rank array with 1s till both shapes have the same length\n",
    "2. Two arrays are compatible in a dimension, if they have the same size in that dimension or if one of them has size 1 in it\n",
    "3. Arrays can be broadcast together if they are compatible in all dimensions\n",
    "4. After the broadcasting, each array behaves as if it had shape equal to elementwise maximum of shapes of the two input arrays\n",
    "5. In any dimension where one array had size 1 and the other array had size greater than 1, the first array behaves as if it were copied along that dimension\n",
    "\n",
    "- The functions that support broadcasting are called *universal*"
   ]
  },
  {
   "cell_type": "markdown",
   "id": "525f220f",
   "metadata": {},
   "source": [
    "## Miscellaneous"
   ]
  },
  {
   "cell_type": "markdown",
   "id": "3d3d67a7",
   "metadata": {},
   "source": [
    "### Sorting"
   ]
  },
  {
   "cell_type": "code",
   "execution_count": 36,
   "id": "67cbc0d2",
   "metadata": {},
   "outputs": [
    {
     "name": "stdout",
     "output_type": "stream",
     "text": [
      "[  1  42  45 123 132 432]\n"
     ]
    }
   ],
   "source": [
    "arr = np.array([42,132,432,123,1,45])\n",
    "arr = np.sort(arr)\n",
    "print(arr)"
   ]
  },
  {
   "cell_type": "markdown",
   "id": "04d4dad7",
   "metadata": {},
   "source": [
    "### Concatenation"
   ]
  },
  {
   "cell_type": "code",
   "execution_count": 37,
   "id": "ff3e9c36",
   "metadata": {},
   "outputs": [
    {
     "name": "stdout",
     "output_type": "stream",
     "text": [
      "[0. 0. 0. 0. 1. 1. 1.]\n",
      "[[1 2]\n",
      " [3 4]\n",
      " [6 7]]\n"
     ]
    }
   ],
   "source": [
    "# Concatenating 1D arrays\n",
    "a = np.zeros(4)\n",
    "b = np.ones(3)\n",
    "print(np.concatenate((a,b)))\n",
    "# Concatenating 2D arrays\n",
    "a = np.array([[1,2],[3,4]])\n",
    "b = np.array([[6,7]])\n",
    "print(np.concatenate((a,b),axis=0))"
   ]
  },
  {
   "cell_type": "markdown",
   "id": "5220bfb8",
   "metadata": {},
   "source": [
    "### Array Attributes"
   ]
  },
  {
   "cell_type": "code",
   "execution_count": 38,
   "id": "3cae0630",
   "metadata": {},
   "outputs": [
    {
     "name": "stdout",
     "output_type": "stream",
     "text": [
      "3\n",
      "24\n",
      "(3, 2, 4)\n"
     ]
    }
   ],
   "source": [
    "a = np.array([[[0, 1, 2, 3],\n",
    "               [4, 5, 6, 7]],\n",
    "\n",
    "              [[0, 1, 2, 3],\n",
    "               [4, 5, 6, 7]],\n",
    "\n",
    "              [[0 ,1 ,2, 3],\n",
    "               [4, 5, 6, 7]]])\n",
    "# Axes/Dimensions\n",
    "print(a.ndim)\n",
    "# Number of elements\n",
    "print(a.size)\n",
    "# Shape\n",
    "print(a.shape)"
   ]
  }
 ],
 "metadata": {
  "kernelspec": {
   "display_name": "Python [conda env:deeplearn]",
   "language": "python",
   "name": "conda-env-deeplearn-py"
  },
  "language_info": {
   "codemirror_mode": {
    "name": "ipython",
    "version": 3
   },
   "file_extension": ".py",
   "mimetype": "text/x-python",
   "name": "python",
   "nbconvert_exporter": "python",
   "pygments_lexer": "ipython3",
   "version": "3.9.12"
  }
 },
 "nbformat": 4,
 "nbformat_minor": 5
}
