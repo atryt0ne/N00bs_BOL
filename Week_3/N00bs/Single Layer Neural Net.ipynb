{
 "cells": [
  {
   "cell_type": "markdown",
   "id": "184ad1d5",
   "metadata": {},
   "source": [
    "# Single Layer Neural Net Implementation"
   ]
  },
  {
   "cell_type": "markdown",
   "id": "fa64ad37",
   "metadata": {},
   "source": [
    "## Import Libraries"
   ]
  },
  {
   "cell_type": "code",
   "execution_count": null,
   "id": "9e3b1059",
   "metadata": {},
   "outputs": [],
   "source": [
    "import numpy as np\n",
    "import matplotlib as plt\n",
    "from sklearn.model_selection import train_test_split"
   ]
  },
  {
   "cell_type": "markdown",
   "id": "bb492efc",
   "metadata": {},
   "source": [
    "## Preparing the Datasets"
   ]
  },
  {
   "cell_type": "code",
   "execution_count": null,
   "id": "61d8293f",
   "metadata": {},
   "outputs": [],
   "source": []
  },
  {
   "cell_type": "markdown",
   "id": "585df624",
   "metadata": {},
   "source": [
    "### Peeking the data"
   ]
  },
  {
   "cell_type": "code",
   "execution_count": null,
   "id": "fd33c2d9",
   "metadata": {},
   "outputs": [],
   "source": []
  },
  {
   "cell_type": "markdown",
   "id": "7ec8a759",
   "metadata": {},
   "source": [
    "### Train Test Split"
   ]
  },
  {
   "cell_type": "code",
   "execution_count": null,
   "id": "d6173c7f",
   "metadata": {},
   "outputs": [],
   "source": []
  },
  {
   "cell_type": "markdown",
   "id": "0c18d271",
   "metadata": {},
   "source": [
    "## Defining the Structure of Neural Network"
   ]
  },
  {
   "cell_type": "markdown",
   "id": "52ea50cd",
   "metadata": {},
   "source": [
    "### Perceptron Class"
   ]
  },
  {
   "cell_type": "code",
   "execution_count": null,
   "id": "7c011bb5",
   "metadata": {},
   "outputs": [],
   "source": []
  },
  {
   "cell_type": "markdown",
   "id": "55dd657a",
   "metadata": {},
   "source": [
    "### Initial Parameters"
   ]
  },
  {
   "cell_type": "code",
   "execution_count": 1,
   "id": "454372a0",
   "metadata": {},
   "outputs": [
    {
     "ename": "TypeError",
     "evalue": "initialize() missing 2 required positional arguments: 'X' and 'Y'",
     "output_type": "error",
     "traceback": [
      "\u001b[1;31m---------------------------------------------------------------------------\u001b[0m",
      "\u001b[1;31mTypeError\u001b[0m                                 Traceback (most recent call last)",
      "Input \u001b[1;32mIn [1]\u001b[0m, in \u001b[0;36m<cell line: 7>\u001b[1;34m()\u001b[0m\n\u001b[0;32m      4\u001b[0m     output_layer \u001b[38;5;241m=\u001b[39m Y\u001b[38;5;241m.\u001b[39mshape[\u001b[38;5;241m0\u001b[39m]\n\u001b[0;32m      5\u001b[0m     \u001b[38;5;28;01mreturn\u001b[39;00m (input_unit, hidden_layer, output_layer)\n\u001b[1;32m----> 7\u001b[0m i,h,o \u001b[38;5;241m=\u001b[39m \u001b[43minitialize\u001b[49m\u001b[43m(\u001b[49m\u001b[43m)\u001b[49m\n\u001b[0;32m      8\u001b[0m \u001b[38;5;28mprint\u001b[39m(\u001b[38;5;124mf\u001b[39m\u001b[38;5;124m'\u001b[39m\u001b[38;5;124mThe number of nodes in input layer is \u001b[39m\u001b[38;5;132;01m{\u001b[39;00mi\u001b[38;5;132;01m}\u001b[39;00m\u001b[38;5;124m'\u001b[39m)\n\u001b[0;32m      9\u001b[0m \u001b[38;5;28mprint\u001b[39m(\u001b[38;5;124mf\u001b[39m\u001b[38;5;124m'\u001b[39m\u001b[38;5;124mThe number of nodes in hidden layer is \u001b[39m\u001b[38;5;132;01m{\u001b[39;00mh\u001b[38;5;132;01m}\u001b[39;00m\u001b[38;5;124m'\u001b[39m)\n",
      "\u001b[1;31mTypeError\u001b[0m: initialize() missing 2 required positional arguments: 'X' and 'Y'"
     ]
    }
   ],
   "source": [
    "def initialize(X,Y):\n",
    "    input_layer = X.shape[0]\n",
    "    hidden_layer = 4\n",
    "    output_layer = Y.shape[0]\n",
    "    return (input_unit, hidden_layer, output_layer)\n",
    "\n",
    "i,h,o = initialize(X_train,Y_train)\n",
    "print(f'The number of nodes in input layer is {i}')\n",
    "print(f'The number of nodes in hidden layer is {h}')\n",
    "print(f'The number of nodes in output layer is {o}')\n",
    "\n",
    "def init_params(i_size,h_size,o_size):\n",
    "    np.random.seed(342)\n",
    "    W1 = np.random.randn(h_size,i_size)*0.01\n",
    "    b1 = np.zeros((h_size,1))\n",
    "    W2 = np.random.randn(o_size,h_size)*0.01\n",
    "    b2 = np.zeros((o_size,1))\n",
    "    params = {\"W1\":W1, \"W2\":W2, \"b1\":b1, \"b2\":b2}\n",
    "    return params"
   ]
  },
  {
   "cell_type": "markdown",
   "id": "ef229fee",
   "metadata": {},
   "source": [
    "## Forward Propagation"
   ]
  },
  {
   "cell_type": "code",
   "execution_count": 3,
   "id": "ec4d0d99",
   "metadata": {},
   "outputs": [],
   "source": [
    "# Define activation functions\n",
    "def sigmoid(x):\n",
    "    return 1/(1+np.exp(-x))\n",
    "\n",
    "# Implement Forward Prop\n",
    "\n",
    "\n",
    "# Cross-entropy Cost\n",
    "\n"
   ]
  },
  {
   "cell_type": "markdown",
   "id": "105c523f",
   "metadata": {},
   "source": [
    "## Backward Propagation"
   ]
  },
  {
   "cell_type": "code",
   "execution_count": null,
   "id": "baf25bf9",
   "metadata": {},
   "outputs": [],
   "source": [
    "# Find the gradients required\n",
    "def back_prop(params,cache,X,Y):\n",
    "    '''Output : gradients'''\n",
    "    \n",
    "    return grads\n",
    "    \n",
    "# Implement Gradient Descent\n",
    "def grad_descent(params,grads,learning_rate=0.01):\n",
    "    \n",
    "    return params"
   ]
  },
  {
   "cell_type": "markdown",
   "id": "eab1fa5f",
   "metadata": {},
   "source": [
    "## Neural Net Model"
   ]
  },
  {
   "cell_type": "code",
   "execution_count": null,
   "id": "22aba621",
   "metadata": {},
   "outputs": [],
   "source": [
    "def neural_net(X,Y, iters=1000):\n",
    "    np.random.seed(687)\n",
    "    i_size,h_size,o_size = initialize(X,Y)\n",
    "    params = init_params(i_size,h_size,o_size)\n",
    "    W1 = params[\"W1\"]\n",
    "    b1 = params[\"b1\"]\n",
    "    W2 = params[\"W2\"]\n",
    "    b2 = params[\"b2\"]\n",
    "    \n",
    "    for i in range(iters):\n",
    "        # Forward prop, Cost, Backprop, Grad_Desc,\n",
    "    return params\n",
    "\n",
    "params = neural_net(X_train,Y_train,1000)"
   ]
  },
  {
   "cell_type": "markdown",
   "id": "5644e564",
   "metadata": {},
   "source": [
    "## Prediction"
   ]
  },
  {
   "cell_type": "code",
   "execution_count": 4,
   "id": "86065e3d",
   "metadata": {},
   "outputs": [
    {
     "ename": "SyntaxError",
     "evalue": "invalid syntax (1077992485.py, line 7)",
     "output_type": "error",
     "traceback": [
      "\u001b[1;36m  Input \u001b[1;32mIn [4]\u001b[1;36m\u001b[0m\n\u001b[1;33m    acc_train = # Code here\u001b[0m\n\u001b[1;37m                ^\u001b[0m\n\u001b[1;31mSyntaxError\u001b[0m\u001b[1;31m:\u001b[0m invalid syntax\n"
     ]
    }
   ],
   "source": [
    "def predict(params, X):\n",
    "    \n",
    "    return predictions\n",
    "\n",
    "predictions = predict(params, X_train)\n",
    "\n",
    "acc_train = # Code here\n",
    "\n",
    "print(f\"Accuracy Train: {acc_train}\")\n",
    "\n",
    "predictions = predict(params,X_test)\n",
    "\n",
    "acc_test = # Code here\n",
    "\n",
    "print(f\"Accuracy Test: {acc_test}\")"
   ]
  },
  {
   "cell_type": "code",
   "execution_count": null,
   "id": "9235fe84",
   "metadata": {},
   "outputs": [],
   "source": []
  }
 ],
 "metadata": {
  "kernelspec": {
   "display_name": "Python [conda env:deeplearn]",
   "language": "python",
   "name": "conda-env-deeplearn-py"
  },
  "language_info": {
   "codemirror_mode": {
    "name": "ipython",
    "version": 3
   },
   "file_extension": ".py",
   "mimetype": "text/x-python",
   "name": "python",
   "nbconvert_exporter": "python",
   "pygments_lexer": "ipython3",
   "version": "3.9.12"
  }
 },
 "nbformat": 4,
 "nbformat_minor": 5
}
